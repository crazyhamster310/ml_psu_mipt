{
  "cells": [
    {
      "cell_type": "markdown",
      "id": "30450e42-b916-497e-b0cd-bb965d81b5be",
      "metadata": {
        "id": "30450e42-b916-497e-b0cd-bb965d81b5be"
      },
      "source": [
        "# Лабораторная работа 1\n",
        "### Выполнил: Рухлядев Алексей Павлович"
      ]
    },
    {
      "cell_type": "markdown",
      "id": "970a6982-e449-4e57-919d-1dcb6492c684",
      "metadata": {
        "id": "970a6982-e449-4e57-919d-1dcb6492c684"
      },
      "source": [
        "Добро пожаловать в лабораторную работу!\n",
        "Оформите ваше решение контеста Kaggle в соответствии с этим шаблоном. Ваша задача - показать проверяющим ход ваших рассуждений, поэтому советуем писать много комментариев к коду и приводить комментарии к логике на каждом этапе в текстовых ячейках.\n",
        "Где необходимо, используйте графики для большей наглядности."
      ]
    },
    {
      "cell_type": "markdown",
      "id": "f98eaf96-7d8b-4dbf-80f1-1c8bb5c86452",
      "metadata": {
        "id": "f98eaf96-7d8b-4dbf-80f1-1c8bb5c86452"
      },
      "source": [
        "При отправке поменяйте название файла на ваши ФИО!"
      ]
    },
    {
      "cell_type": "markdown",
      "id": "19a9c839-ae08-49e7-a54c-13084737b7ff",
      "metadata": {
        "id": "19a9c839-ae08-49e7-a54c-13084737b7ff"
      },
      "source": [
        "### EDA (исследовательский анализ данных)"
      ]
    },
    {
      "cell_type": "markdown",
      "id": "ce6d1797-da8a-44ad-a487-8cd89b35b054",
      "metadata": {
        "id": "ce6d1797-da8a-44ad-a487-8cd89b35b054"
      },
      "source": [
        "В этом разделе вам необходимо провести анализ вашего датасета, интерпретировать признаки, выяснить их значимость и исследовать зависимости между ними."
      ]
    },
    {
      "cell_type": "code",
      "execution_count": null,
      "id": "a8aef4d1-bab2-42ae-9e69-1e27ab603dbb",
      "metadata": {
        "id": "a8aef4d1-bab2-42ae-9e69-1e27ab603dbb"
      },
      "outputs": [],
      "source": [
        "import numpy as np\n",
        "import pandas as pd\n",
        "import random\n",
        "import matplotlib.pyplot as plt\n",
        "import seaborn as sns\n",
        "\n",
        "\n",
        "my_seed = 42\n",
        "random.seed(my_seed)\n",
        "np.random.seed(my_seed)"
      ]
    },
    {
      "cell_type": "code",
      "execution_count": null,
      "id": "848efc53",
      "metadata": {
        "id": "848efc53",
        "outputId": "711dfecb-47fa-47f7-f741-20e4fe60e26e"
      },
      "outputs": [],
      "source": [
        "# Для начала просто посмотрим на данные и их формат\n",
        "train = pd.read_csv('train.csv', index_col=0)\n",
        "test = pd.read_csv('test.csv', index_col=0)\n",
        "train.info()\n",
        "train.head()"
      ]
    },
    {
      "cell_type": "code",
      "execution_count": null,
      "id": "45ea84f4",
      "metadata": {
        "id": "45ea84f4",
        "outputId": "778a4f7f-b733-4a45-bdcf-bafca27f0e25"
      },
      "outputs": [],
      "source": [
        "train.describe()"
      ]
    },
    {
      "cell_type": "code",
      "execution_count": null,
      "id": "3e2169f6",
      "metadata": {
        "id": "3e2169f6",
        "outputId": "eb928dda-8f7a-44bf-af06-6175789f1ec2"
      },
      "outputs": [],
      "source": [
        "for col in ['cut', 'color', 'clarity']:\n",
        "    print(f\"{col}: {train[col].unique()}\")"
      ]
    },
    {
      "cell_type": "markdown",
      "id": "aee9b53f",
      "metadata": {
        "id": "aee9b53f"
      },
      "source": [
        "Теперь пробежимся по самим признакам (кроме целевой переменной цены `price`):\n",
        "1. `carat` - масса алмаза в каратах. Числовой признак\n",
        "2. `cut` - уровень огранки. Категориальный признак, придется побить на кучу столбцов\n",
        "3. `color` - цвет алмаза. Категориальный - бьем\n",
        "4. `clarity`- мера чистоты (в смысле наличия включений) алмаза. Категориальный - бьем. Есть пропуски\n",
        "\n",
        "Ссылка мне в помощь: https://www.bronnitsy.com/brilliants/anatomy/\n",
        "\n",
        "5. `depth` - глубина. Числовой. Есть пропуски\n",
        "6. `table`- площадка. Числовой.\n",
        "7. `x`, `y`, `z` - размер по осям. Числовые. Есть пропуски. Также в `y` и `z` есть какие-то неприятные выбросы.\n",
        "8. `theta1`, `theta2` - ???. Числовые (правда, почему-то они заданы дискретными значениями, возможно, стоит их все-таки рассматривать категориальными)"
      ]
    },
    {
      "cell_type": "code",
      "execution_count": null,
      "id": "e01e9486",
      "metadata": {
        "id": "e01e9486",
        "outputId": "592b2a4a-41a6-4c72-eed7-dfb2ce581061"
      },
      "outputs": [],
      "source": [
        "# Посмотрим на распределение числовых признаков\n",
        "numeric_features = ['carat', 'depth', 'table', 'x', 'y', 'z', 'theta1', 'theta2']\n",
        "\n",
        "fig, axes = plt.subplots(4, 2, figsize=(18, 12))\n",
        "axes = axes.ravel()\n",
        "\n",
        "for i, feature in enumerate(numeric_features):\n",
        "    sns.histplot(train[feature], kde=True, ax=axes[i])\n",
        "    axes[i].set_title(f'Распределение {feature}')\n",
        "\n",
        "plt.tight_layout()\n",
        "plt.show()"
      ]
    },
    {
      "cell_type": "code",
      "execution_count": null,
      "id": "22898ba8",
      "metadata": {
        "id": "22898ba8",
        "outputId": "c898b84a-e492-4710-f438-d5f9b0ee4a17"
      },
      "outputs": [],
      "source": [
        "# Для y и z отдельно избавимся от выбросов\n",
        "fig, axes = plt.subplots(1, 2, figsize=(18, 5))\n",
        "axes = axes.ravel()\n",
        "\n",
        "def plot(df, x, idx):\n",
        "    sns.histplot(df[x], kde=True, ax=axes[idx])\n",
        "\n",
        "def untrash(val, df) -> pd.DataFrame:\n",
        "    q1 = df[val].quantile(0.25)\n",
        "    q3 = df[val].quantile(0.75)\n",
        "    q = q3 - q1\n",
        "    lb = q1 - 1.5 * q\n",
        "    ub = q3 + 1.5 * q\n",
        "    return df[(df[val] >= lb) & (df[val] <= ub)]\n",
        "\n",
        "plot(untrash('y', train), 'y', 0)\n",
        "plot(untrash('z', train), 'z', 1)\n",
        "plt.tight_layout()\n",
        "plt.show()"
      ]
    },
    {
      "cell_type": "code",
      "execution_count": null,
      "id": "c979f11b",
      "metadata": {
        "id": "c979f11b",
        "outputId": "23476cd8-b4b7-4eeb-e7d1-1e958c7af698"
      },
      "outputs": [],
      "source": [
        "# Посмотрим, где еще есть выбросы\n",
        "fig, axes = plt.subplots(4, 2, figsize=(18, 12))\n",
        "axes = axes.ravel()\n",
        "\n",
        "for i, feature in enumerate(numeric_features):\n",
        "    sns.boxplot(y=train[feature], ax=axes[i])\n",
        "    axes[i].set_title(f'Выбросы в {feature}')\n",
        "\n",
        "for i in range(len(numeric_features), len(axes)):\n",
        "    fig.delaxes(axes[i])\n",
        "\n",
        "plt.tight_layout()\n",
        "plt.show()"
      ]
    },
    {
      "cell_type": "code",
      "execution_count": null,
      "id": "70f11009",
      "metadata": {
        "id": "70f11009",
        "outputId": "bc0a86e0-2640-4f93-a436-48a9209b2aa4"
      },
      "outputs": [],
      "source": [
        "# Матрица корреляций для числовых признаков\n",
        "numeric_df = train[numeric_features + ['price']]\n",
        "\n",
        "for feature in numeric_features:\n",
        "    numeric_df = untrash(feature, numeric_df)\n",
        "\n",
        "plt.figure(figsize=(12, 8))\n",
        "corr_matrix = numeric_df.corr()\n",
        "sns.heatmap(corr_matrix, annot=True, cmap='coolwarm', center=0, square=True, fmt='.2f')\n",
        "plt.title('Матрица корреляций числовых признаков (с почищенными выбросами)')\n",
        "plt.show()\n",
        "# Логичное наблюдение: наиболее сильно цена зависит от массы и размера (что, в конечном счете, одно и то же).\n",
        "# Также видно, что оптимальный размер площадки зависит от в принципе размера алмаза, а глубина - непосредственно от высоты (но не других размеров) всего алмаза"
      ]
    },
    {
      "cell_type": "code",
      "execution_count": null,
      "id": "5286bf60",
      "metadata": {
        "id": "5286bf60",
        "outputId": "6edabe49-5c83-44a7-cc4e-c8efb4d1bb34"
      },
      "outputs": [],
      "source": [
        "# Посмотрим, как эти зависимости выглядят на графиках\n",
        "from pandas.plotting import scatter_matrix\n",
        "# Очень смешной рикролл, выкинем thet'ы отсюда\n",
        "numeric_df.drop(['theta1', 'theta2'], axis=1, inplace=True)\n",
        "scatter_matrix(numeric_df, figsize=(25, 20))\n",
        "plt.show()\n",
        "# Зависимости x,y,z друг от друга очень похожи на линейные. Логично, ведь формы огранки алмазов вполне определенные"
      ]
    },
    {
      "cell_type": "code",
      "execution_count": null,
      "id": "b24fbc93",
      "metadata": {
        "id": "b24fbc93",
        "outputId": "f6f42778-a1c7-4b08-e365-bcd3a929fd3f"
      },
      "outputs": [],
      "source": [
        "plt.figure(figsize=(4, 4))\n",
        "plt.scatter(train['theta1'], train['theta2'])\n",
        "plt.tight_layout()\n",
        "plt.show()"
      ]
    },
    {
      "cell_type": "code",
      "execution_count": null,
      "id": "def940e3",
      "metadata": {
        "id": "def940e3",
        "outputId": "83542618-5d7d-480c-9c6a-711b61327696"
      },
      "outputs": [],
      "source": [
        "# Теперь посмотрим на категориальные признаки\n",
        "categorial_features = ['cut', 'color', 'clarity']\n",
        "\n",
        "fig, axes = plt.subplots(1, 3, figsize=(20, 8))\n",
        "\n",
        "for i, feature in enumerate(categorial_features):\n",
        "    sns.countplot(data=train, x=feature, ax=axes[i])\n",
        "    axes[i].set_title(f'Распределение {feature}')\n",
        "    axes[i].tick_params(axis='x', rotation=45)\n",
        "\n",
        "plt.tight_layout()\n",
        "plt.show()"
      ]
    },
    {
      "cell_type": "code",
      "execution_count": null,
      "id": "98fd2c18",
      "metadata": {
        "id": "98fd2c18",
        "outputId": "1e211317-56ca-4e39-ea05-b6715e73be21"
      },
      "outputs": [],
      "source": [
        "fig, axes = plt.subplots(1, 3, figsize=(20, 8))\n",
        "\n",
        "for i, feature in enumerate(categorial_features):\n",
        "    sns.boxplot(data=train, y=feature, x='price', ax=axes[i])\n",
        "\n",
        "plt.tight_layout()\n",
        "plt.show()"
      ]
    },
    {
      "cell_type": "markdown",
      "id": "160af548-c186-443a-9f6b-35373b9de9cc",
      "metadata": {
        "id": "160af548-c186-443a-9f6b-35373b9de9cc"
      },
      "source": [
        "### Preprocessing (подготовка данных)"
      ]
    },
    {
      "cell_type": "markdown",
      "id": "2dc5c679-39ad-4365-a7c8-0c65ea7dd670",
      "metadata": {
        "id": "2dc5c679-39ad-4365-a7c8-0c65ea7dd670"
      },
      "source": [
        " В этом разделе вам необходимо реализовать подготовку ваших данных, в том числе заполнение пропусков, фильтрацию выбросов, кодирование категориальных признаков и т.д. В этот же раздел включите любые операции над данными, которые сочтете нужными."
      ]
    },
    {
      "cell_type": "code",
      "execution_count": null,
      "id": "7f9215e8",
      "metadata": {
        "id": "7f9215e8"
      },
      "outputs": [],
      "source": [
        "train = pd.read_csv('train.csv')\n",
        "test = pd.read_csv('test.csv')\n",
        "x = train.drop(['id', 'price', 'theta1', 'theta2'], axis=1)\n",
        "y = train['price']"
      ]
    },
    {
      "cell_type": "code",
      "execution_count": null,
      "id": "b4cefb12",
      "metadata": {
        "id": "b4cefb12"
      },
      "outputs": [],
      "source": [
        "from sklearn.impute import SimpleImputer\n",
        "from sklearn.preprocessing import StandardScaler, PolynomialFeatures\n",
        "from sklearn.compose import ColumnTransformer\n",
        "from pandas.core.series import Series\n",
        "\n",
        "numeric_features = ['carat', 'depth', 'table', 'x', 'y', 'z']\n",
        "categorial_features = ['cut', 'color', 'clarity']\n",
        "\n",
        "def untrash(arr: Series) -> pd.DataFrame:\n",
        "    lb = arr.quantile(0.01)\n",
        "    ub = arr.quantile(0.99)\n",
        "    return np.clip(arr, lb, ub)\n",
        "\n",
        "# Чистим выбросы\n",
        "def handle_outliers(df: pd.DataFrame) -> pd.DataFrame:\n",
        "    dfc = df.copy()\n",
        "    for feature in numeric_features:\n",
        "        dfc[feature] = untrash(dfc[feature])\n",
        "    return dfc\n",
        "\n",
        "# Заменяем пропущенные значения\n",
        "def handle_missing(df: pd.DataFrame) -> pd.DataFrame:\n",
        "    preprocessor = ColumnTransformer(\n",
        "        transformers=[\n",
        "            ('num_imputer', SimpleImputer(strategy='median'), numeric_features),\n",
        "            ('cat_imputer', SimpleImputer(strategy='most_frequent'), categorial_features)\n",
        "        ],\n",
        "        remainder='passthrough'\n",
        "    )\n",
        "    df_imputed = preprocessor.fit_transform(df)\n",
        "    df_imputed = pd.DataFrame(df_imputed, columns=numeric_features + categorial_features)\n",
        "    print(df.info())\n",
        "    return df_imputed\n",
        "\n",
        "# Приводим категориальные переменные к человеческому виду (можно было через get_dummies, но оно давало худший результат)\n",
        "def get_dummies(df: pd.DataFrame) -> pd.DataFrame:\n",
        "    dfc = df.copy()\n",
        "    cut_mapping = {\n",
        "        'Fair': 1,\n",
        "        'Good': 2,\n",
        "        \"'Very Good'\": 3,\n",
        "        'Premium': 4,\n",
        "        'Ideal': 5\n",
        "    }\n",
        "\n",
        "    # Для clarity используем порядковое кодирование\n",
        "    clarity_mapping = {\n",
        "        'I1': 1,\n",
        "        'SI2': 2,\n",
        "        'SI1': 3,\n",
        "        'VS2': 4,\n",
        "        'VS1': 5,\n",
        "        'VVS2': 6,\n",
        "        'VVS1': 7,\n",
        "        'IF': 8\n",
        "    }\n",
        "\n",
        "    # Для color используем порядковое кодирование\n",
        "    color_mapping = {\n",
        "        'D': 1,\n",
        "        'E': 2,\n",
        "        'F': 3,\n",
        "        'G': 4,\n",
        "        'H': 5,\n",
        "        'I': 6,\n",
        "        'J': 7,\n",
        "    }\n",
        "\n",
        "    # Применяем кодирование\n",
        "    dfc['cut'] = dfc['cut'].map(cut_mapping) * dfc['carat']\n",
        "    dfc['clarity'] = dfc['clarity'].map(clarity_mapping) * dfc['carat']\n",
        "    dfc['color'] = dfc['color'].map(color_mapping) * dfc['carat']\n",
        "    return dfc\n",
        "\n",
        "    # dfc = pd.get_dummies(df, columns=categorial_features)\n",
        "    # for feature in dfc.columns:\n",
        "    #     for f in categorial_features:\n",
        "    #         if f in feature:\n",
        "    #             dfc[feature] *= dfc['carat']\n",
        "    # return dfc\n",
        "\n",
        "# Немного feature-engineering'а\n",
        "def get_new_features(df: pd.DataFrame) -> pd.DataFrame:\n",
        "    poly = PolynomialFeatures(degree=2, include_bias=False)\n",
        "    poly.fit(df)\n",
        "    cols = poly.get_feature_names_out(df.columns)\n",
        "    dfc = pd.DataFrame(poly.transform(df), columns=cols, index=df.index)\n",
        "    xyz_features = ['x', 'y', 'z']\n",
        "\n",
        "    from itertools import combinations_with_replacement\n",
        "    triple_combinations = combinations_with_replacement(xyz_features, 3)\n",
        "\n",
        "    for combo in triple_combinations:\n",
        "        sorted_combo = sorted(combo)\n",
        "        feature_name = '*'.join(sorted_combo)\n",
        "        dfc[feature_name] = dfc[sorted_combo[0]] * dfc[sorted_combo[1]] * dfc[sorted_combo[2]]\n",
        "\n",
        "    return dfc\n",
        "\n",
        "# Хотел добавить стандартизацию, но она ужасно убивала скор (почему-то, до сих пор не нашел объяснения)\n",
        "def scale_features(df: pd.DataFrame) -> pd.DataFrame:\n",
        "    dfc = df.copy()\n",
        "    scaler = StandardScaler()\n",
        "    cols = dfc.columns[dfc.dtypes != 'bool']\n",
        "    scaler.fit(dfc[cols])\n",
        "    dfc[cols] = scaler.transform(dfc[cols])\n",
        "    return dfc\n",
        "\n",
        "# Ну и сразу сделаем функцию, чтобы удобно применить и к трейну, и к тесту\n",
        "def preprocess(df: pd.DataFrame) -> pd.DataFrame:\n",
        "    dfc = df.copy()\n",
        "    dfc = handle_outliers(dfc)\n",
        "    dfc = handle_missing(dfc)\n",
        "    dfc = get_dummies(dfc)\n",
        "    dfc = get_new_features(dfc)\n",
        "    return dfc"
      ]
    },
    {
      "cell_type": "code",
      "execution_count": null,
      "id": "b251dbc8",
      "metadata": {
        "colab": {
          "base_uri": "https://localhost:8080/",
          "height": 748
        },
        "id": "b251dbc8",
        "outputId": "fe884d87-f969-4d79-b5ad-22881cc359ba"
      },
      "outputs": [],
      "source": [
        "x = preprocess(x)\n",
        "x"
      ]
    },
    {
      "cell_type": "code",
      "execution_count": null,
      "id": "c73ddde3",
      "metadata": {
        "colab": {
          "base_uri": "https://localhost:8080/"
        },
        "id": "c73ddde3",
        "outputId": "ad592d52-8280-485b-8dd3-32fe0900d72d"
      },
      "outputs": [],
      "source": [
        "x.info()"
      ]
    },
    {
      "cell_type": "markdown",
      "id": "8479a893-758a-48ce-a654-d3b7ac26d1fb",
      "metadata": {
        "id": "8479a893-758a-48ce-a654-d3b7ac26d1fb"
      },
      "source": [
        "### Model & training (Выбор модели и её обучение)"
      ]
    },
    {
      "cell_type": "markdown",
      "id": "05d8b94b-06f2-44ea-a6b4-96bc9e7de76f",
      "metadata": {
        "id": "05d8b94b-06f2-44ea-a6b4-96bc9e7de76f"
      },
      "source": [
        "В этом разделе описываете модель и ставите эксперименты по обучению.\n",
        "\n",
        "Если вы ставили много экспериментов, приведите их в хронологическом порядке чтобы мы увидели эволюцию ваших рассуждений."
      ]
    },
    {
      "cell_type": "code",
      "execution_count": null,
      "id": "09f4846c",
      "metadata": {
        "id": "09f4846c"
      },
      "outputs": [],
      "source": [
        "from sklearn.linear_model import LinearRegression, Ridge, Lasso\n",
        "from sklearn.model_selection import cross_val_score, KFold, GridSearchCV\n",
        "from sklearn.metrics import mean_absolute_error"
      ]
    },
    {
      "cell_type": "markdown",
      "id": "4d87d736-4628-4fab-ae88-ac0189a159bd",
      "metadata": {
        "id": "4d87d736-4628-4fab-ae88-ac0189a159bd"
      },
      "source": [
        "#### Эксперимент 1"
      ]
    },
    {
      "cell_type": "code",
      "execution_count": null,
      "id": "0b469536-9415-4c86-9784-3dbada62c28c",
      "metadata": {
        "colab": {
          "base_uri": "https://localhost:8080/"
        },
        "id": "0b469536-9415-4c86-9784-3dbada62c28c",
        "outputId": "f0b6d251-b4ea-4b99-bb35-4b7f5af41553"
      },
      "outputs": [],
      "source": [
        "# Для начала посмотрим на лин рег без регуляризации\n",
        "\n",
        "kf = KFold(n_splits=5, shuffle=True, random_state=my_seed)\n",
        "\n",
        "models = {\n",
        "    'Linear Regression': LinearRegression()\n",
        "}\n",
        "\n",
        "def evaluate_models(models, X, y, cv):\n",
        "    results = {}\n",
        "\n",
        "    for name, model in models.items():\n",
        "        print(f\"\\n--- Оценка {name} ---\")\n",
        "\n",
        "        # Кросс-валидация с MAE\n",
        "        mae_scores = -cross_val_score(model, X, y, cv=cv, scoring='neg_mean_absolute_error')\n",
        "\n",
        "        results[name] = {\n",
        "            'MAE': mae_scores.mean(),\n",
        "            'MAE_std': mae_scores.std(),\n",
        "            'model': model\n",
        "        }\n",
        "\n",
        "        print(f\"MAE: {mae_scores.mean():.2f} ± {mae_scores.std():.2f}\")\n",
        "\n",
        "    return results\n",
        "\n",
        "base_results = evaluate_models(models, x, y, kf)"
      ]
    },
    {
      "cell_type": "markdown",
      "id": "63ad46c8-d632-4476-a438-b9318bb0fbc8",
      "metadata": {
        "id": "63ad46c8-d632-4476-a438-b9318bb0fbc8"
      },
      "source": [
        "#### Эксперимент 2"
      ]
    },
    {
      "cell_type": "code",
      "execution_count": null,
      "id": "e0442df0",
      "metadata": {
        "colab": {
          "base_uri": "https://localhost:8080/"
        },
        "id": "e0442df0",
        "outputId": "0598beef-d54a-4f73-86a3-a4af281f9e1f"
      },
      "outputs": [],
      "source": [
        "# Посмотрим, насколько ситуацию улучшает регуляризация\n",
        "\n",
        "models_reg = {\n",
        "    'Ridge (alpha=0.1)': Ridge(alpha=0.1, random_state=my_seed),\n",
        "    'Ridge (alpha=1.0)': Ridge(alpha=1.0, random_state=my_seed),\n",
        "    'Ridge (alpha=10.0)': Ridge(alpha=10.0, random_state=my_seed),\n",
        "    'Lasso (alpha=0.1)': Lasso(alpha=0.1, random_state=my_seed),\n",
        "    'Lasso (alpha=1.0)': Lasso(alpha=1.0, random_state=my_seed),\n",
        "}\n",
        "\n",
        "reg_results = evaluate_models(models_reg, x, y, kf)"
      ]
    },
    {
      "cell_type": "markdown",
      "id": "c26becfd-c285-411c-80b1-daf27d7f701a",
      "metadata": {
        "id": "c26becfd-c285-411c-80b1-daf27d7f701a"
      },
      "source": [
        "#### Эксперимент 3"
      ]
    },
    {
      "cell_type": "code",
      "execution_count": null,
      "id": "5d1a8953",
      "metadata": {
        "colab": {
          "base_uri": "https://localhost:8080/"
        },
        "id": "5d1a8953",
        "outputId": "6e2c0fe3-3036-4c49-da06-c6e1342502d2"
      },
      "outputs": [],
      "source": [
        "# Теперь подберем гиперпараметры для каждой из регуляризаций\n",
        "param_grid = {\n",
        "    'ridge': {'alpha': [0.001, 0.01, 0.1, 0.5, 1, 2, 5, 10, 20, 50]},\n",
        "    'lasso': {'alpha': [0.0001, 0.001, 0.01, 0.05, 0.1, 0.5, 1]}\n",
        "}\n",
        "\n",
        "# Подбор для Ridge\n",
        "print(\"--- Подбор гиперпараметров для Ridge ---\")\n",
        "ridge = Ridge(random_state=my_seed)\n",
        "ridge_grid = GridSearchCV(ridge, param_grid['ridge'], cv=kf, scoring='neg_mean_absolute_error', n_jobs=-1)\n",
        "ridge_grid.fit(x, y)\n",
        "\n",
        "print(f\"Лучшие параметры Ridge: {ridge_grid.best_params_}\")\n",
        "print(f\"Лучший MAE: {-ridge_grid.best_score_:.2f}\")\n",
        "\n",
        "# Подбор для Lasso\n",
        "print(\"--- Подбор гиперпараметров для Lasso ---\")\n",
        "lasso = Lasso(random_state=my_seed, max_iter=10000)\n",
        "lasso_grid = GridSearchCV(lasso, param_grid['lasso'], cv=kf, scoring='neg_mean_absolute_error', n_jobs=-1)\n",
        "lasso_grid.fit(x, y)\n",
        "\n",
        "print(f\"Лучшие параметры Lasso: {lasso_grid.best_params_}\")\n",
        "print(f\"Лучший MAE: {-lasso_grid.best_score_:.2f}\")\n",
        "\n",
        "models_tuned = {\n",
        "    'Linear Regression': LinearRegression(),\n",
        "    f'Ridge (alpha={ridge_grid.best_params_[\"alpha\"]})': Ridge(alpha=ridge_grid.best_params_['alpha'], random_state=my_seed),\n",
        "    f'Lasso (alpha={lasso_grid.best_params_[\"alpha\"]})': Lasso(alpha=lasso_grid.best_params_['alpha'], random_state=my_seed, max_iter=10000),\n",
        "}\n",
        "\n",
        "tuned_results = evaluate_models(models_tuned, x, y, kf)"
      ]
    },
    {
      "cell_type": "markdown",
      "id": "80cfb7b0",
      "metadata": {
        "id": "80cfb7b0"
      },
      "source": [
        "#### Выбор лучшей модели"
      ]
    },
    {
      "cell_type": "code",
      "execution_count": null,
      "id": "fa7b9cee",
      "metadata": {
        "colab": {
          "base_uri": "https://localhost:8080/",
          "height": 402
        },
        "id": "fa7b9cee",
        "outputId": "bf34b091-7891-4353-f084-e225e89436c4"
      },
      "outputs": [],
      "source": [
        "X_test = preprocess(test.drop(['id', 'theta1', 'theta2'], axis=1))\n",
        "\n",
        "comparison_df = pd.DataFrame({\n",
        "    model: {\n",
        "        'MAE': results['MAE'],\n",
        "        'MAE_std': results['MAE_std'],\n",
        "    }\n",
        "    for model, results in tuned_results.items()\n",
        "}).T.sort_values('MAE')\n",
        "\n",
        "best_model_name = comparison_df.index[0]\n",
        "best_model = tuned_results[best_model_name]['model']\n",
        "best_mae = comparison_df.loc[best_model_name, 'MAE']\n",
        "\n",
        "print(f\"--- Финальное обучение {best_model_name} на всех данных ---\")\n",
        "final_model = best_model\n",
        "\n",
        "X_test_final = X_test\n",
        "final_model.fit(x, y)"
      ]
    },
    {
      "cell_type": "code",
      "execution_count": null,
      "id": "9b6ef8e6",
      "metadata": {
        "colab": {
          "base_uri": "https://localhost:8080/"
        },
        "id": "9b6ef8e6",
        "outputId": "5344d095-8467-4d68-b652-d43fb7af9d29"
      },
      "outputs": [],
      "source": [
        "y_pred_test = final_model.predict(X_test_final)\n",
        "\n",
        "print(f\"Диапазон предсказаний: {y_pred_test.min():.2f} - {y_pred_test.max():.2f}\")\n",
        "print(f\"Среднее предсказание: {y_pred_test.mean():.2f}\")\n",
        "\n",
        "submission = pd.DataFrame({\n",
        "    'id': test['id'],\n",
        "    'price': y_pred_test\n",
        "})\n",
        "\n",
        "submission_file = 'submission.csv'\n",
        "submission.to_csv(submission_file, index=False)"
      ]
    },
    {
      "cell_type": "markdown",
      "id": "2951c100-0ab9-4900-915d-30a200970c45",
      "metadata": {
        "id": "2951c100-0ab9-4900-915d-30a200970c45"
      },
      "source": [
        "### Evaluation (оценка качества модели)"
      ]
    },
    {
      "cell_type": "markdown",
      "id": "0d648625-3c46-4e2c-ac1a-e96335a65e54",
      "metadata": {
        "id": "0d648625-3c46-4e2c-ac1a-e96335a65e54"
      },
      "source": [
        "В этом разделе проводите оценку качества вашей итоговой модели."
      ]
    },
    {
      "cell_type": "code",
      "execution_count": null,
      "id": "f1667a6c-5b1f-4288-bdf5-1d671178126a",
      "metadata": {
        "colab": {
          "base_uri": "https://localhost:8080/"
        },
        "id": "f1667a6c-5b1f-4288-bdf5-1d671178126a",
        "outputId": "cc088471-21ba-45e6-f761-9a6de3e4c853"
      },
      "outputs": [],
      "source": [
        "pred = final_model.predict(x)\n",
        "\n",
        "mae = mean_absolute_error(y, pred)\n",
        "mae"
      ]
    },
    {
      "cell_type": "code",
      "execution_count": null,
      "id": "2e808aad",
      "metadata": {
        "colab": {
          "base_uri": "https://localhost:8080/",
          "height": 451
        },
        "id": "2e808aad",
        "outputId": "6b36ad45-5e86-47a3-da25-830eaff07909"
      },
      "outputs": [],
      "source": [
        "residuals = y - pred\n",
        "\n",
        "fig, axes = plt.subplots(1, 2, figsize=(18, 5))\n",
        "\n",
        "axes[0].scatter(pred, residuals)\n",
        "axes[0].axhline(y=0, color='r', linestyle='--', linewidth=2)\n",
        "axes[0].set_xlabel('Предсказание')\n",
        "axes[0].set_ylabel('Остаток')\n",
        "axes[0].set_title('График остатков')\n",
        "axes[0].grid(alpha=0.3)\n",
        "\n",
        "axes[1].hist(residuals, bins=50)\n",
        "axes[1].set_title('Распределение остатков')\n",
        "axes[1].grid(alpha=0.3)\n",
        "\n",
        "plt.tight_layout()\n",
        "plt.show()\n",
        "\n",
        "print(f\"Среднее остатков: {residuals.mean():.6f}\")\n",
        "print(f\"Среднее квадратичное отклонение остатков: {residuals.std():.4f}\")"
      ]
    },
    {
      "cell_type": "markdown",
      "id": "4495c17d-912b-42ea-9536-4b668d6a22d4",
      "metadata": {
        "id": "4495c17d-912b-42ea-9536-4b668d6a22d4"
      },
      "source": [
        "### Conclusion (Выводы)"
      ]
    },
    {
      "cell_type": "markdown",
      "id": "70b88756-3945-4729-b58f-b779bf55b45e",
      "metadata": {
        "id": "70b88756-3945-4729-b58f-b779bf55b45e"
      },
      "source": [
        "В этом разделе описываете полученные результаты и проводите анализ выполненной работы.\n",
        "Что получилось / не получилось и почему?"
      ]
    },
    {
      "cell_type": "markdown",
      "id": "e0da88f6",
      "metadata": {
        "id": "e0da88f6"
      },
      "source": [
        "В ходе работы была достигнута MAE около 313 на тренировочных данных, что дало score ~455 на Kaggle. Для первого опыта участия в соревновании это можно считать успешным результатом.\n",
        "\n",
        "Эффективность подходов:\n",
        "\n",
        "- Наилучшие результаты показала линейная регрессия без регуляризации\n",
        "- Feature-engineering с полиномиальными признаками и взаимодействиями значительно улучшил качество модели\n",
        "- Порядковое кодирование категориальных переменных с умножением на вес карата оказалось эффективнее one-hot encoding\n",
        "- По непонятным причинам стандартизация переменных делала модель очень плохой\n",
        "\n",
        "Интересно было изучить смысл каждого столбца (никогда не интересовался алмазами с такой стороны). Особенно позабавила пасхалка в ненужных переменных `theta1` и `theta2`."
      ]
    }
  ],
  "metadata": {
    "colab": {
      "provenance": []
    },
    "kernelspec": {
      "display_name": "env",
      "language": "python",
      "name": "python3"
    },
    "language_info": {
      "codemirror_mode": {
        "name": "ipython",
        "version": 3
      },
      "file_extension": ".py",
      "mimetype": "text/x-python",
      "name": "python",
      "nbconvert_exporter": "python",
      "pygments_lexer": "ipython3",
      "version": "3.13.7"
    }
  },
  "nbformat": 4,
  "nbformat_minor": 5
}
